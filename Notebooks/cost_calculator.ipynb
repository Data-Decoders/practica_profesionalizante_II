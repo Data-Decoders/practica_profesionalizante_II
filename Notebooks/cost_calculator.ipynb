{
 "cells": [
  {
   "cell_type": "code",
   "execution_count": 4,
   "metadata": {},
   "outputs": [],
   "source": [
    "import pandas as pd\n",
    "import numpy as np\n",
    "import requests\n",
    "import re\n",
    "import ollama\n",
    "import random\n",
    "import math\n",
    "from tiktoken import get_encoding"
   ]
  },
  {
   "cell_type": "code",
   "execution_count": 20,
   "metadata": {},
   "outputs": [],
   "source": [
    "labels_with_definitions = [\n",
    "    (\"Peso\", \"Indica la ligereza de la zapatilla, generalmente expresado en gramos. El peso puede influir en el rendimiento y la comodidad durante la carrera.\"),\n",
    "    (\"Material del upper (parte superior)\", \"Describe los materiales utilizados en la parte superior de la zapatilla, como malla, cuero sintético o tejidos técnicos, que afectan la transpirabilidad, flexibilidad y soporte.\"),\n",
    "    (\"Material de la mediasuela\", \"Se refiere a los compuestos empleados en la entresuela, como espumas EVA o tecnologías propietarias, que proporcionan amortiguación y absorción de impactos.\"),\n",
    "    (\"Suela exterior\", \"Detalla el tipo de goma o caucho utilizado en la suela y el diseño del patrón de tracción, aspectos que influyen en el agarre y la durabilidad en diversas superficies.\"),\n",
    "    (\"Sistema de amortiguación\", \"Especifica las tecnologías o materiales destinados a reducir el impacto durante la pisada, contribuyendo al confort y la protección de las articulaciones.\"),\n",
    "    (\"Drop (diferencial talón-punta)\", \"Indica la diferencia de altura entre el talón y la punta de la zapatilla, medida en milímetros. Un drop alto suele ofrecer mayor amortiguación en el talón, mientras que un drop bajo promueve una pisada más natural.\"),\n",
    "    (\"Tipo de pisada\", \"Clasifica la zapatilla según su adecuación para diferentes tipos de pisada: neutra, pronadora o supinadora. Esto es esencial para elegir un calzado que se adapte a la biomecánica del corredor.\"),\n",
    "    (\"Tipo de uso\", \"Define el propósito principal de la zapatilla, como entrenamiento diario, competición, trail running o uso casual, lo que orienta sobre su diseño y funcionalidades específicas.\"),\n",
    "    (\"Género\", \"Indica si la zapatilla está diseñada para hombres, mujeres o es un modelo unisex, considerando diferencias anatómicas y de tamaño.\"),\n",
    "    (\"Tallas disponibles\", \"Especifica el rango de tallas en las que se ofrece la zapatilla, asegurando que el corredor pueda encontrar un ajuste adecuado.\"),\n",
    "    (\"Anchura\", \"Algunas marcas ofrecen diferentes anchos (estrecho, estándar, ancho) para adaptarse a diversas morfologías del pie.\"),\n",
    "    (\"Precio\", \"Proporciona el costo de la zapatilla, un factor determinante en la decisión de compra.\"),\n",
    "    (\"Tecnologías adicionales\", \"Incluye características especiales como impermeabilidad, reflectividad, sistemas de ajuste personalizados o elementos de estabilidad que mejoran la funcionalidad del calzado.\"),\n",
    "]"
   ]
  },
  {
   "cell_type": "markdown",
   "metadata": {},
   "source": [
    "## Funciones"
   ]
  },
  {
   "cell_type": "code",
   "execution_count": 5,
   "metadata": {},
   "outputs": [],
   "source": [
    "def transformar_texto(texto, marca):\n",
    "    if texto is None or (isinstance(texto, float) and np.isnan(texto)):\n",
    "        return texto\n",
    "    \n",
    "    if marca.lower() == \"adidas\":\n",
    "        # Transformación original para adidas\n",
    "        if isinstance(texto, (list, np.ndarray)):\n",
    "            texto = \", \".join(map(str, texto))\n",
    "        else:\n",
    "            texto = str(texto)\n",
    "        texto = texto.strip(\"[]\")\n",
    "        texto = re.sub(r\",\\s*\", '} {', texto)\n",
    "        texto = '{' + texto + '}'\n",
    "        return texto\n",
    "    \n",
    "    elif marca.lower() == \"nike\":\n",
    "        # Transformación específica para nike\n",
    "        if isinstance(texto, list):\n",
    "            # Elimina claves con valores irrelevantes\n",
    "            texto_limpio = [\n",
    "                {k.strip(): v.strip() for k, v in d.items() if k.strip() not in ['\\xa0']}\n",
    "                for d in texto\n",
    "                if isinstance(d, dict)\n",
    "            ]\n",
    "            # Filtra elementos vacíos o irrelevantes\n",
    "            texto_limpio = [d for d in texto_limpio if d]\n",
    "            return texto_limpio\n",
    "        return texto  # Si no es lista, regresa el texto original\n",
    "\n",
    "    else:\n",
    "        raise ValueError(f\"Marca '{marca}' no reconocida. Usa 'adidas' o 'nike'.\")\n"
   ]
  },
  {
   "cell_type": "code",
   "execution_count": 6,
   "metadata": {},
   "outputs": [],
   "source": [
    "def obtener_respuesta_ollama(prompt):\n",
    "    response = ollama.chat(\n",
    "        model=\"llama3.2:latest\",\n",
    "        messages = [\n",
    "           {\n",
    "               \"role\":\"user\",\n",
    "               \"content\": prompt\n",
    "           } \n",
    "        ]\n",
    "    )\n",
    "    # La respuesta es un generador; concatenamos las partes\n",
    "    return response"
   ]
  },
  {
   "cell_type": "code",
   "execution_count": null,
   "metadata": {},
   "outputs": [],
   "source": [
    "\n",
    "\n",
    "\n",
    "def generate_prompt_ollama(product, labels_with_definitions):\n",
    "    labels = [label for label, _ in labels_with_definitions]\n",
    "    prompt = f\"\"\"\n",
    "        You are an assistant specialized in extracting structured information from product descriptions and organizing it into tables.\n",
    "        Your task is to extract the following information from the product details and label it according to the provided labels: {', '.join(labels)}.\n",
    "        Each label has the following definition to help guide your extraction:\n",
    "\n",
    "        {''.join([f'- {label}: {definition}\\n' for label, definition in labels_with_definitions])}\n",
    "\n",
    "        If a label does not have a clear match in the details, complete its value with \"null\".\n",
    "\n",
    "        Product information:\n",
    "        - Details: {product['details']}\n",
    "        - Description: {product['description']}\n",
    "        - Category: {product['category']}\n",
    "\n",
    "        Provide the information in a table with columns corresponding to each label. \n",
    "        The table must include **two complete rows**:\n",
    "        1. The first row contains the label names.\n",
    "        2. The second row contains the corresponding labeled values.\n",
    "\n",
    "        Expected response format:\n",
    "        | {' | '.join(labels)} |\n",
    "        | {' | '.join(['---'] * len(labels))} |\n",
    "        | value_1 | value_2 | ... |\n",
    "        \n",
    "        Example:\n",
    "        If the labels are \"details\", \"description\", and \"category\", and the extracted values are \n",
    "        \"Comfortable sneakers\", \"Made with recycled materials\", and \"Footwear\", respectively, \n",
    "        your response should be:\n",
    "\n",
    "        | details | description | category |\n",
    "        | --- | --- | --- |\n",
    "        | Comfortable sneakers | Made with recycled materials | Footwear |\n",
    "\n",
    "        Remember:\n",
    "        - The response must contain two complete rows.\n",
    "        - Only respond with the table and **do not include additional text**.\n",
    "\n",
    "        Now, extract and structure the information for the provided product:\n",
    "\n",
    "        | {' | '.join(labels)} |\n",
    "        | {' | '.join(['---'] * len(labels))} |\n",
    "        |\"\"\"\n",
    "    return prompt.strip()\n"
   ]
  },
  {
   "cell_type": "code",
   "execution_count": 8,
   "metadata": {},
   "outputs": [],
   "source": [
    "# Tokenizer function (using tiktoken for GPT-like models)\n",
    "def count_tokens(text):\n",
    "    try:\n",
    "        encoding = get_encoding(\"cl100k_base\")  # Example encoding for GPT-like models\n",
    "        return len(encoding.encode(text))\n",
    "    except Exception:\n",
    "        return len(text.split())  # Fallback: approximate by word count"
   ]
  },
  {
   "cell_type": "code",
   "execution_count": 39,
   "metadata": {},
   "outputs": [],
   "source": [
    "# Función de simulación de Monte Carlo corregida\n",
    "def monte_carlo_simulation(products, models, iterations=1000, num_products=None):\n",
    "    results = {}\n",
    "    \n",
    "    for model_name, model_info in models.items():\n",
    "        tokens_per_product = {}\n",
    "        costs_per_product = {}\n",
    "        \n",
    "        for _ in range(iterations):\n",
    "            # Muestra una fracción de los productos si se especifica\n",
    "            if num_products is not None and num_products < len(products):\n",
    "                sampled_products = random.sample(products, num_products)\n",
    "            else:\n",
    "                sampled_products = products\n",
    "\n",
    "            for product in sampled_products:\n",
    "                product_id = product.get('id', id(product))  # Usamos un identificador único para cada producto\n",
    "                prompt = generate_prompt_ollama(product, labels_with_definitions)\n",
    "                tokens = count_tokens(prompt)\n",
    "                \n",
    "                # Verifica si el número de tokens excede la ventana de contexto\n",
    "                if tokens > model_info['context_window']*1000:\n",
    "                    print(f\"Advertencia: El prompt excede la ventana de contexto para el modelo {model_name}\")\n",
    "                    # Puedes manejar este caso según necesites (e.g., omitir, truncar)\n",
    "                    continue\n",
    "                \n",
    "                cost = (tokens / 1000) * model_info['cost_in']\n",
    "                \n",
    "                # Actualiza los máximos y mínimos por producto\n",
    "                if product_id not in tokens_per_product:\n",
    "                    tokens_per_product[product_id] = {'max': tokens, 'min': tokens}\n",
    "                    costs_per_product[product_id] = {'max': cost, 'min': cost}\n",
    "                else:\n",
    "                    tokens_per_product[product_id]['max'] = max(tokens_per_product[product_id]['max'], tokens)\n",
    "                    tokens_per_product[product_id]['min'] = min(tokens_per_product[product_id]['min'], tokens)\n",
    "                    costs_per_product[product_id]['max'] = max(costs_per_product[product_id]['max'], cost)\n",
    "                    costs_per_product[product_id]['min'] = min(costs_per_product[product_id]['min'], cost)\n",
    "        \n",
    "        # Después de todas las iteraciones, obtenemos los máximos y mínimos globales\n",
    "        max_tokens = max([data['max'] for data in tokens_per_product.values()], default=0)\n",
    "        min_tokens = min([data['min'] for data in tokens_per_product.values()], default=0)\n",
    "        max_cost = max([data['max'] for data in costs_per_product.values()], default=0)\n",
    "        min_cost = min([data['min'] for data in costs_per_product.values()], default=0)\n",
    "        \n",
    "        results[model_name] = {\n",
    "            'max_tokens': max_tokens,\n",
    "            'min_tokens': min_tokens,\n",
    "            'max_cost': max_cost,\n",
    "            'min_cost': min_cost,\n",
    "        }\n",
    "    return results"
   ]
  },
  {
   "cell_type": "markdown",
   "metadata": {},
   "source": [
    "## Lectura de datos"
   ]
  },
  {
   "cell_type": "code",
   "execution_count": 10,
   "metadata": {},
   "outputs": [
    {
     "name": "stdout",
     "output_type": "stream",
     "text": [
      "200\n"
     ]
    }
   ],
   "source": [
    "url =\"https://scraping-firestore-178159629911.us-central1.run.app//v1/scraping/\"\n",
    "\n",
    "response = requests.get(url)\n",
    "\n",
    "if response.status_code == 200:\n",
    "    data = response.json()\n",
    "    print(response.status_code)\n",
    "else:\n",
    "    print(f'Error: {response.status_code}')\n",
    "\n",
    "df_raw = pd.DataFrame(data)"
   ]
  },
  {
   "cell_type": "markdown",
   "metadata": {},
   "source": [
    "## Código"
   ]
  },
  {
   "cell_type": "code",
   "execution_count": 13,
   "metadata": {},
   "outputs": [],
   "source": [
    "df_adidas = df_raw[df_raw['store'] == 'adidas']"
   ]
  },
  {
   "cell_type": "code",
   "execution_count": 14,
   "metadata": {},
   "outputs": [
    {
     "name": "stderr",
     "output_type": "stream",
     "text": [
      "C:\\Users\\Usuario\\AppData\\Local\\Temp\\ipykernel_3872\\354877031.py:2: SettingWithCopyWarning: \n",
      "A value is trying to be set on a copy of a slice from a DataFrame.\n",
      "Try using .loc[row_indexer,col_indexer] = value instead\n",
      "\n",
      "See the caveats in the documentation: https://pandas.pydata.org/pandas-docs/stable/user_guide/indexing.html#returning-a-view-versus-a-copy\n",
      "  df_adidas['details_transformado'] = df_adidas['details'].apply(lambda x: transformar_texto(x, 'adidas'))\n"
     ]
    }
   ],
   "source": [
    "# Lista de descripciones de productos\n",
    "df_adidas['details_transformado'] = df_adidas['details'].apply(lambda x: transformar_texto(x, 'adidas'))"
   ]
  },
  {
   "cell_type": "code",
   "execution_count": 15,
   "metadata": {},
   "outputs": [],
   "source": [
    "# Crear un diccionario con las llaves deseadas desde todo el DataFrame\n",
    "productos = [\n",
    "    {\n",
    "        \"details\": row['details_transformado'],\n",
    "        \"description\": row['description'],\n",
    "        \"category\": row['category']\n",
    "    }\n",
    "    for _, row in df_adidas.iterrows()  # Recorre todo el DataFrame\n",
    "    if row['details_transformado'] != '{}'  # Filtra donde los detalles no estén vacíos\n",
    "]"
   ]
  },
  {
   "cell_type": "code",
   "execution_count": 16,
   "metadata": {},
   "outputs": [],
   "source": [
    "# Model configurations\n",
    "models = {\n",
    "    \"jamba15large\": {'cost_in': 0.002, 'cost_out': 0.008, 'accuracy': 64, 'context_window': 256},\n",
    "    \"claude35sonnet\": {'cost_in': 0.003, 'cost_out': 0.015, 'accuracy': 80, 'context_window': 200},\n",
    "    \"llama3170b\": {'cost_in': 0.00099, 'cost_out': 0.00099, 'accuracy': 66, 'context_window': 128},\n",
    "    \"mistrallarge\": {'cost_in': 0.004, 'cost_out': 0.012, 'accuracy': 56, 'context_window': 33},\n",
    "}"
   ]
  },
  {
   "cell_type": "code",
   "execution_count": 41,
   "metadata": {},
   "outputs": [],
   "source": [
    "# Ahora puedes especificar el número de productos a procesar (por ejemplo, 10)\n",
    "num_products_to_process = 100  # O usa len(productos) para procesar todos\n",
    "\n",
    "# Ejecutar la simulación de Monte Carlo\n",
    "simulation_results = monte_carlo_simulation(productos, models, iterations=1000, num_products=num_products_to_process)\n",
    "\n",
    "# Mostrar los resultados\n",
    "import pandas as pd\n",
    "df_results = pd.DataFrame(simulation_results).transpose().reset_index()\n",
    "df_results.columns = ['Model', 'Max Tokens', 'Min Tokens', 'Max Cost', 'Min Cost']\n"
   ]
  },
  {
   "cell_type": "code",
   "execution_count": 42,
   "metadata": {},
   "outputs": [
    {
     "name": "stdout",
     "output_type": "stream",
     "text": [
      "            Model  Max Tokens  Min Tokens  Max Cost  Min Cost\n",
      "0    jamba15large      1787.0      1303.0  0.003574  0.002606\n",
      "1  claude35sonnet      1787.0      1303.0  0.005361  0.003909\n",
      "2      llama3170b      1787.0      1303.0  0.001769  0.001290\n",
      "3    mistrallarge      1787.0      1303.0  0.007148  0.005212\n"
     ]
    }
   ],
   "source": [
    "print(df_results)\n"
   ]
  },
  {
   "cell_type": "code",
   "execution_count": 43,
   "metadata": {},
   "outputs": [
    {
     "data": {
      "text/plain": [
       "(519, 14)"
      ]
     },
     "execution_count": 43,
     "metadata": {},
     "output_type": "execute_result"
    }
   ],
   "source": [
    "df_adidas.shape"
   ]
  },
  {
   "cell_type": "code",
   "execution_count": 24,
   "metadata": {},
   "outputs": [],
   "source": [
    "# Crear un diccionario con las llaves deseadas\n",
    "productos = [\n",
    "    {\n",
    "        \"details\": row['details_transformado'],\n",
    "        \"description\": row['description'],\n",
    "        \"category\": row['category']\n",
    "    }\n",
    "    for _, row in df_adidas[:10].iterrows() \n",
    "    if row['details_transformado'] != '{}'\n",
    "]"
   ]
  },
  {
   "cell_type": "code",
   "execution_count": 27,
   "metadata": {},
   "outputs": [
    {
     "name": "stdout",
     "output_type": "stream",
     "text": [
      "{'details': '{Horma clásica} {Parte superior sintética} {Forro interno textil} {Varillas ENERGYRODS 2.0 que limitan la pérdida de energía} {Amortiguación Lightstrike Pro} {Peso: 183 g (talla CO 37} {5)} {Caída mediasuela: 6 mm (talón: 38 mm / antepié: 32 mm)} {La parte superior contiene al menos un 50 % de material reciclado} {Color del artículo: Pink Spark / Aurora Met. / Sandy Pink} {Número de artículo: ID3612}', 'description': \"Los Adizero Adios Pro 3 son la máxima expresión de los productos Adizero Racing. Fueron diseñados con y para atletas para lograr hazañas increíbles. Estos tenis de running adidas están diseñados para optimizar la eficiencia del running. Nuestras varillas ENERGYRODS 2.0 de carbono ofrecen ligereza y firmeza para pasos ágiles y eficientes. La tecnología LIGHTSTRIKE PRO ultraliviana amortigua cada paso con las tres capas de espuma resistente que te ayudan a mantener la energía a largo plazo. Todo sobre una delgada suela de caucho textil para un agarre extraordinario en condiciones mojadas y secas. Celebramos nuestra más reciente victoria, los tenis Best Speed 2024 by Women's Health.\", 'category': 'Mujer • Running'}\n",
      "Respuesta del modelo:\n",
      "| Peso | Material del upper (parte superior) | Material de la mediasuela | Suela exterior | Sistema de amortiguación | Drop (diferencial talón-punta) | Tipo de pisada | Tipo de uso | Género | Tallas disponibles | Anchura | Precio | Tecnologías adicionales |\n",
      "| --- | --- | --- | --- | --- | --- | --- | --- | --- | --- | --- | --- | --- |\n",
      "| 183 g | Parte superior sintética | Forro interno textil | Caucho textil | Amortiguación Lightstrike Pro | 5 | Neutral | Competición | Mujer | 37-45 CO | null | 250 | Varillas ENERGYRODS 2.0, tecnología LIGHTSTRIKE PRO, caucho textil, material reciclado |\n",
      "\n",
      "------------------------\n",
      "\n",
      "{'details': '{Ajuste clásico} {Sistema de amarre de cordones} {Exterior de tejido adidas Primeknit} {Ajuste suave en el talón} {Sistema Linear Energy Push} {Mediasuela BOOST} {Peso: 289 g (Talla CO 37)} {Suela Stretchweb con caucho Continental™ Better Rubber} {El hilo del exterior contiene al menos un 50% de Parley Ocean Plastic y un 50% de poliéster reciclado} {Color del artículo: Core Black / Core Black / Cloud White} {Número de artículo: GX5591}', 'description': 'Hemos analizado 1.200.000 pisadas para que Ultraboost evolucione y mejore su ajuste para adaptarse 360° al pie femenino. Y aún hay más. Hemos rediseñado la suela de caucho. Probamos cientos de prototipos. Hasta que comprobamos las mejoras en su rendimiento. ¿El resultado? Un 4 % más de energía que los Ultraboost 21 para mujer. El ajuste en el área del talón del exterior adidas PRIMEKNIT se diseñó para evitar que el talón se deslice y se formen ampollas. Estarás corriendo sobre una mediasuela BOOST con tecnología Linear Energy Push. El exterior de este calzado está confeccionado con hilo que contiene un 50% de Parley Ocean Plastic, un material que ha sido recuperado de residuos plásticos recogidos en islas, playas, comunidades costeras y costas evitando que contaminen nuestros océanos.', 'category': 'Mujer • Running'}\n",
      "Respuesta del modelo:\n",
      "| Peso | Material del upper (parte superior) | Material de la mediasuela | Suela exterior | Sistema de amortiguación | Drop (diferencial talón-punta) | Tipo de pisada | Tipo de uso | Género | Tallas disponibles | Anchura | Precio | Tecnologías adicionales |\n",
      "| --- | --- | --- | --- | --- | --- | --- | --- | --- | --- | --- | --- | --- |\n",
      "| 289 g (Talla CO 37) | adidas Primeknit | BOOST | Stretchweb con caucho Continental™ Better Rubber | Linear Energy Push | null | Neutra | Competición | Mujer | 37-48 | null | €149.95 | Contiene al menos un 50% de Parley Ocean Plastic y un 50% de poliéster reciclado\n",
      "\n",
      "------------------------\n",
      "\n",
      "{'details': '{Ajuste clásico} {Cierre de cordones} {Parte superior de malla técnica} {Amortiguación Lightstrike Pro} {Varillas ENERGYRODS que limitan la pérdida de energía} {Talón Slinglaunch para un ajuste seguro} {Peso: 166 g (Talla COL 36 1/2)} {Caída mediasuela: 6 mm (talón: 32 mm / antepié: 26 mm)} {Suela de caucho Continental™} {Contiene al menos un 20 % de material reciclado} {Color del artículo: Green Spark / Aurora Met. / Lucid Lemon} {Número de artículo: IG8206}', 'description': 'Haz tus mejores 10k con nuestros nuevos tenis de running Adizero, diseñados exclusivamente para darte máxima velocidad. Los Adizero Takumi Sen 10 han sido diseñados con dos capas de amortiguación LIGHTSTRIKE PRO, combinadas con las varillas ENERGYRODS para una mayor estabilidad e impulso en tu carrera. Supera tu marca personal y llega a la meta más rápido que nunca.', 'category': 'Mujer • Running'}\n",
      "Respuesta del modelo:\n",
      "| Peso | Material del upper (parte superior) | Material de la mediasuela | Suela exterior | Sistema de amortiguación | Drop (diferencial talón-punta) | Tipo de pisada | Tipo de uso | Género | Tallas disponibles | Anchura | Precio | Tecnologías adicionales |\n",
      "| --- | --- | --- | --- | --- | --- | --- | --- | --- | --- | --- | --- | --- |\n",
      "| 166 g (Talla COL 36 1/2) | Parte superior de malla técnica | Varillas ENERGYRODS que limitan la pérdida de energía | Suela de caucho Continental™ | Amortiguación Lightstrike Pro | 6 mm (talón: 32 mm / antepié: 26 mm) | Neutra | Competición | Mujer | 36 1/2-42 3/4 | Estrecho, estándar, ancho | null | null | Contiene al menos un 20 % de material reciclado |\n",
      "\n",
      "------------------------\n",
      "\n",
      "{'details': '{Ajuste clásico} {Sistema de amarre de cordones} {Parte superior de malla} {Amortiguación Lightstrike Pro} {Varillas ENERGYRODS que limitan la pérdida de energía} {Talón Slinglaunch} {Peso: 200 gramos (talla CO 40)} {Caída mediasuela: 6 mm (talón: 33 mm / antepié: 27 mm} {Suela de caucho Continental™ Rubber} {Contienen al menos un 20% de material reciclado} {Color del artículo: Green Spark / Aurora Met. / Lucid Lemon} {Número de artículo: IG3134}', 'description': 'Haz tus mejores 10k con nuestros nuevos tenis de running Adizero, diseñados exclusivamente para darte máxima velocidad. Los Adizero Takumi Sen 10 han sido diseñados con dos capas de amortiguación LIGHTSTRIKE PRO, combinadas con las varillas ENERGYRODS 2.0 para una mayor estabilidad e impulso en tu carrera. Supera tu marca personal y llega a la meta más rápido que nunca.', 'category': 'Hombre • Running'}\n",
      "Respuesta del modelo:\n",
      "| Peso | Material del upper (parte superior) | Material de la mediasuela | Suela exterior | Sistema de amortiguación | Drop (diferencial talón-punta) | Tipo de pisada | Tipo de uso | Género | Tallas disponibles | Anchura | Precio | Tecnologías adicionales |\n",
      "| --- | --- | --- | --- | --- | --- | --- | --- | --- | --- | --- | --- | --- |\n",
      "| 200 gramos | Parte superior de malla | Amortiguación Lightstrike Pro | Suela de caucho Continental™ Rubber | Varillas ENERGYRODS que limitan la pérdida de energía | null | neutra | competición | hombre | CO 40-50, EU 41-45, US 6.5-7.5 | estrecho | 90€ | Contienen al menos un 20% de material reciclado |\n",
      "\n",
      "------------------------\n",
      "\n",
      "{'details': '{Horma clásica} {Sistema de amarre de cordones} {Parte superior textil} {Forro interno textil} {Mediasuela Cloudfoam} {Suela de TPU} {Peso: 319 g (talla CO 40)} {Caída mediasuela: 6 mm (talón 35 mm / antepié 29 mm)} {Color del artículo: Halo Silver / Carbon / Core Black} {Número de artículo: ID8754}', 'description': 'Cada carrera es un viaje de descubrimiento. Ponte estos tenis de running adidas y libera tu potencial. La mediasuela con amortiguación Cloudfoam te ofrece una pisada más cómoda mientras aumentas tu resistencia. La parte superior textil es resistente al desgaste y te ofrece soporte desde tu primera vuelta hasta tu primera carrera de 5K.', 'category': 'Hombre • Running'}\n",
      "Respuesta del modelo:\n",
      "| Peso | Material del upper (parte superior) | Material de la mediasuela | Suela exterior | Sistema de amortiguación | Drop (diferencial talón-punta) | Tipo de pisada | Tipo de uso | Género | Tallas disponibles | Anchura | Precio | Tecnologías adicionales |\n",
      "| --- | --- | --- | --- | --- | --- | --- | --- | --- | --- | --- | --- | --- |\n",
      "| 319 g (talla CO 40) | Parte superior textil | Mediasuela Cloudfoam | Suela de TPU | Reducción del impacto | 6 mm (talón 35 mm / antepié 29 mm) | Neutra | Entrenamiento diario | Hombre | Tallas CO 36-46 | null | 319 g | null |\n",
      "\n",
      "------------------------\n",
      "\n",
      "{'details': '{Si este artículo es personalizado} {no aplica en nuestra política de cambios y devoluciones.} {Sistema de amarre de cordones para un ajuste inmejorable} {Producto hecho parcialmente con Malla Técnica Reciclada} {Diseño liviano} {Amortiguación Lightstrike y Lightstrike Pro} {Forro interno textil} {Caída mediasuela: 8} {5 mm (talón: 33 mm / antepié: 24} {5 mm)} {Suela de caucho} {El exterior contiene al menos un 50% de material reciclado} {Color del artículo: Ivory / Iron Metallic / Spark} {Número de artículo: IG3341}', 'description': 'Cuando se trata de alcanzar tus metas, cada segundo cuenta. Ya sea para entrenar o para competir, un rendimiento excelente requiere de prendas de alta tecnología optimizadas para la velocidad. Presentamos la nueva colección de tenis de running livianos que te ayudan a superar tus límites sin distracciones.\\n\\nLos tenis de running Adizero SL seleccionan lo mejor de nuestra franquicia Adizero que rompe récords mundiales. La mediasuela de EVA LIGHTSTRIKE liviana ofrece resiliencia a la mediasuela para que puedas concentrarte en el próximo paso, mientras que el exterior está hecho de una malla técnica suave que está zonificada en áreas clave. El talón acolchado y la lengüeta brindan una comodidad óptima junto con el antepié Adizero. La suela premium está diseñada para proporcionar tracción.', 'category': 'Mujer • Running'}\n",
      "Respuesta del modelo:\n",
      "| Peso | Material del upper (parte superior) | Material de la mediasuela | Suela exterior | Sistema de amortiguación | Drop (diferencial talón-punta) | Tipo de pisada | Tipo de uso | Género | Tallas disponibles | Anchura | Precio | Tecnologías adicionales |\n",
      "| --- | --- | --- | --- | --- | --- | --- | --- | --- | --- | --- | --- | --- |\n",
      "| null | Malla técnica suave zonificada en áreas clave | EVA LIGHTSTRIKE liviana | Suela de caucho | Amortiguación Lightstrike y Lightstrike Pro | 5 mm | Neutra | Competición | Mujer • Running | Estándar, Ancha | $120-$150 | Al menos un 50% de material reciclado |\n",
      "\n",
      "------------------------\n",
      "\n",
      "{'details': '{Horma clásica} {Sistema de amarre de cordones} {Parte superior de malla} {Forro interno textil} {Plantilla OrthoLite®} {Mediasuela Cloudfoam} {Peso: 304 g (talla CO 40)} {Caída mediasuela: 10 mm (talón: 33 mm / antepié: 23 mm)} {Suela Adiwear} {Color del artículo: Cloud White / Core Black / Better Scarlet} {Número de artículo: IE8818}', 'description': 'Tanto en la pista como en la cinta de correr, alcanza todas tus metas con estos tenis de running adidas. Incorporan una mediasuela con amortiguación Cloudfoam que te ofrece una pisada más cómoda y suave. La parte superior de malla transpirable y la suela Adiwear de gran resistencia al desgaste la convierten en una silueta perfecta para llevar durante todo el día.', 'category': 'Hombre • Running'}\n",
      "Respuesta del modelo:\n",
      "| Peso | Material del upper (parte superior) | Material de la mediasuela | Suela exterior | Sistema de amortiguación | Drop (diferencial talón-punta) | Tipo de pisada | Tipo de uso | Género | Tallas disponibles | Anchura | Precio | Tecnologías adicionales |\n",
      "| --- | --- | --- | --- | --- | --- | --- | --- | --- | --- | --- | --- | --- |\n",
      "| 304 g (talla CO 40) | Parte superior de malla | Mediasuela Cloudfoam | Suela Adiwear | Reducción del impacto con Plantilla OrthoLite® y mediasuela Cloudfoam | 10 mm (talón: 33 mm / antepié: 23 mm) | Neutra | Entrenamiento diario, competición | Hombre • Running | Talla CO 40 - CO 12 | Estrecho, estándar, ancho | €109.90 | Impermeabilidad |\n",
      "\n",
      "------------------------\n",
      "\n",
      "{'details': '{Ajuste clásico} {Sistema de amarre de cordones} {Parte superior de malla} {Forro interno textil} {mediasuela Dreamstrike+} {Suela Adiwear} {Peso (talla CO 37): 213 gramos} {Caída mediasuela: 10 mm (talón: 34 mm / 24 mm)} {Contienen al menos un 20% de material reciclado y renovable} {Color del artículo: Almost Yellow / Zero Metalic / Pink Spark} {Número de artículo: IE1072}', 'description': 'Avanza hacia tus metas de running con estos tenis adidas. La mediasuela Dreamstrike+ está diseñada para absorber el impacto. La amortiguación adicional en el antepié ofrece comodidad durante toda tu carrera. El exterior de malla transpirable maximiza el flujo de aire para mantener tus pies frescos, y la suela Adiwear resistente ofrece tracción. \\n\\nAl elegir materiales reciclados, podemos reutilizar materiales que ya han sido creados, lo que ayuda a reducir los residuos. La elección de materiales renovables nos ayudará a eliminar nuestra dependencia de recursos finitos. Nuestros productos hechos con una mezcla de materiales reciclados y renovables contienen al menos un 20% de este material.', 'category': 'Mujer • Running'}\n",
      "Respuesta del modelo:\n",
      "| Peso | Material del upper (parte superior) | Material de la mediasuela | Suela exterior | Sistema de amortiguación | Drop (diferencial talón-punta) | Tipo de pisada | Tipo de uso | Género | Tallas disponibles | Anchura | Precio | Tecnologías adicionales |\n",
      "| --- | --- | --- | --- | --- | --- | --- | --- | --- | --- | --- | --- | --- |\n",
      "| 213 gramos | Parte superior de malla | mediasuela Dreamstrike+ | Suela Adiwear | La mediasuela está diseñada para absorber el impacto. El antepié ofrece comodidad durante toda tu carrera. | 10 mm (talón: 34 mm / 24 mm) | Neutra | Competición, trail running | Mujer • Running | CO 37-48 | Estrecho, estándar, ancho | €59.99 | Contienen al menos un 20% de material reciclado y renovable |\n",
      "\n",
      "------------------------\n",
      "\n",
      "{'details': '{Ajuste clásico} {Sistema de amarre de cordones} {Exterior de malla con cuello acolchado} {Forro interno textil} {Estabilizador de talón moldeado Fitcounter} {Mediasuela Bounce} {Suela sintética} {El exterior contiene al menos un 50 % de material reciclado} {Color del artículo: Shadow Violet / Legend Ink / Wonder Clay} {Número de artículo: IG0334}', 'description': 'Estos tenis fueron diseñados para darte la amortiguación y la respuesta que necesitas cuando estás en la pista o en los senderos. Sin importar si vas a hacer tu caminata diaria o una carrera corta, la mediasuela Bounce es flexible y receptiva con cada paso. Hecho con una serie de materiales reciclados, el exterior incorpora al menos un 50 % de contenido reciclado. Este producto representa solo una de nuestras soluciones para acabar con los residuos plásticos.', 'category': 'Mujer • Running'}\n",
      "Respuesta del modelo:\n",
      "| Peso | Material del upper (parte superior) | Material de la mediasuela | Suela exterior | Sistema de amortiguación | Drop (diferencial talón-punta) | Tipo de pisada | Tipo de uso | Género | Tallas disponibles | Anchura | Precio | Tecnologías adicionales |\n",
      "| --- | --- | --- | --- | --- | --- | --- | --- | --- | --- | --- | --- | --- |\n",
      "| null | {Ajuste clásico} {Sistema de amarre de cordones} {Exterior de malla con cuello acolchado} | {Forro interno textil} {Mediasuela Bounce} | Suela sintética | Estabilizador de talón moldeado Fitcounter | null | Neutra | Entrenamiento diario | Mujer • Running | 7-14 | Estrecho, estándar, ancho | $80-$100 | {El exterior contiene al menos un 50 % de material reciclado} |\n",
      "\n",
      "------------------------\n",
      "\n"
     ]
    }
   ],
   "source": [
    "dfs = []\n",
    "for producto in productos:\n",
    "    prompt = generate_prompt_ollama(producto, labels_with_definitions)\n",
    "    respuesta = obtener_respuesta_ollama(prompt)\n",
    "    print(producto)\n",
    "    print(\"Respuesta del modelo:\")\n",
    "    print(respuesta[\"message\"][\"content\"])\n",
    "    print(\"\\n------------------------\\n\")\n"
   ]
  },
  {
   "cell_type": "code",
   "execution_count": null,
   "metadata": {},
   "outputs": [],
   "source": []
  }
 ],
 "metadata": {
  "kernelspec": {
   "display_name": "venv",
   "language": "python",
   "name": "python3"
  },
  "language_info": {
   "codemirror_mode": {
    "name": "ipython",
    "version": 3
   },
   "file_extension": ".py",
   "mimetype": "text/x-python",
   "name": "python",
   "nbconvert_exporter": "python",
   "pygments_lexer": "ipython3",
   "version": "3.12.3"
  }
 },
 "nbformat": 4,
 "nbformat_minor": 2
}
